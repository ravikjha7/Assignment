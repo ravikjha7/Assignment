{
  "nbformat": 4,
  "nbformat_minor": 0,
  "metadata": {
    "colab": {
      "provenance": []
    },
    "kernelspec": {
      "name": "python3",
      "display_name": "Python 3"
    },
    "language_info": {
      "name": "python"
    }
  },
  "cells": [
    {
      "cell_type": "code",
      "execution_count": 19,
      "metadata": {
        "id": "06TO9dayqiUu"
      },
      "outputs": [],
      "source": [
        "# Peer Graded Assignment"
      ]
    },
    {
      "cell_type": "markdown",
      "source": [
        "# Peer Graded Assignment"
      ],
      "metadata": {
        "id": "47_LzG-u2hQh"
      }
    },
    {
      "cell_type": "markdown",
      "source": [
        "## Introduction\n",
        "\n",
        "In this notebook, we are going to learn about Data Science Tools and Data Science Languages\n"
      ],
      "metadata": {
        "id": "TtxCDga13SKr"
      }
    },
    {
      "cell_type": "markdown",
      "source": [
        "## Data Science Languages\n",
        "\n",
        "- Python\n",
        "- R\n",
        "- Julia\n",
        "- Scala\n",
        "- SQL\n",
        "- SAS"
      ],
      "metadata": {
        "id": "s8D8-bGh3oaX"
      }
    },
    {
      "cell_type": "markdown",
      "source": [
        "## Data Science Libraries\n",
        "\n",
        "- NumPy\n",
        "- pandas\n",
        "- Matplotlib\n",
        "- Seaborn\n",
        "- scikit-learn\n",
        "- TensorFlow\n",
        "- PyTorch\n",
        "- statsmodels\n",
        "- XGBoost"
      ],
      "metadata": {
        "id": "VbPOM9jD4HL0"
      }
    },
    {
      "cell_type": "markdown",
      "source": [
        "## Data Science Tools\n",
        "\n",
        "| Tool Name         | Description                                           |\n",
        "|-------------------|-------------------------------------------------------|\n",
        "| Python            | A versatile programming language for data analysis.   |\n",
        "| R                 | A statistical computing and graphics language.        |\n",
        "| Jupyter Notebook  | An interactive notebook for data analysis and code.   |\n",
        "| NumPy             | A library for numerical and array operations in Python. |\n",
        "| pandas            | A library for data manipulation and analysis in Python. |\n",
        "| Matplotlib        | A plotting library for creating data visualizations.  |\n",
        "| scikit-learn      | A machine learning library for Python.               |\n",
        "| TensorFlow        | An open-source machine learning framework by Google.  |\n",
        "| PyTorch           | An open-source deep learning framework by Facebook.  |\n"
      ],
      "metadata": {
        "id": "_nAOH3db4Ukh"
      }
    },
    {
      "cell_type": "code",
      "source": [],
      "metadata": {
        "id": "50sczm0S4V44"
      },
      "execution_count": null,
      "outputs": []
    },
    {
      "cell_type": "markdown",
      "source": [
        "## Arithmetic Expression Examples\n",
        "\n",
        "In this section, we will explore various arithmetic expressions and operations using Python. Arithmetic expressions involve mathematical operations such as addition, subtraction, multiplication, and division. Below are some examples:\n",
        "\n",
        "### Addition\n",
        "\n",
        "To add two numbers in Python, use the `+` operator:\n",
        "\n",
        "```python\n",
        "result = 5 + 3\n",
        "print(result)  # Output: 8\n",
        "```\n",
        "\n",
        "Subtraction\n",
        "To subtract one number from another, use the - operator:\n",
        "```\n",
        "result = 10 - 4\n",
        "print(result)  # Output: 6\n",
        "```"
      ],
      "metadata": {
        "id": "NX994VnJ4onR"
      }
    },
    {
      "cell_type": "code",
      "source": [
        "# Multiply and add numbers\n",
        "num1 = 5\n",
        "num2 = 3\n",
        "\n",
        "# Multiply\n",
        "result_multiply = num1 * num2\n",
        "print(\"Multiplication result:\", result_multiply)\n",
        "\n",
        "# Add\n",
        "result_add = num1 + num2\n",
        "print(\"Addition result:\", result_add)"
      ],
      "metadata": {
        "colab": {
          "base_uri": "https://localhost:8080/"
        },
        "id": "i1jHj9Ct5My_",
        "outputId": "c3efd584-5df4-43a1-f880-9f7dd0c2fd4b"
      },
      "execution_count": 20,
      "outputs": [
        {
          "output_type": "stream",
          "name": "stdout",
          "text": [
            "Multiplication result: 15\n",
            "Addition result: 8\n"
          ]
        }
      ]
    },
    {
      "cell_type": "code",
      "source": [
        "# Convert minutes to hours\n",
        "minutes = 120\n",
        "\n",
        "# Calculate hours\n",
        "hours = minutes / 60\n",
        "\n",
        "# Display the result\n",
        "print(f\"{minutes} minutes is equal to {hours} hours.\")"
      ],
      "metadata": {
        "colab": {
          "base_uri": "https://localhost:8080/"
        },
        "id": "7U80n4QC5cG_",
        "outputId": "d92bb335-80bd-4fa9-bca4-74ec69447687"
      },
      "execution_count": 21,
      "outputs": [
        {
          "output_type": "stream",
          "name": "stdout",
          "text": [
            "120 minutes is equal to 2.0 hours.\n"
          ]
        }
      ]
    },
    {
      "cell_type": "markdown",
      "source": [
        "## Objectives\n",
        "\n",
        "- Learn about data analysis techniques.\n",
        "- Explore data visualization with Matplotlib.\n",
        "- Understand how to manipulate data using pandas.\n",
        "- Practice writing Python code for data analysis."
      ],
      "metadata": {
        "id": "vWkM614U5oD0"
      }
    },
    {
      "cell_type": "markdown",
      "source": [
        "**Author:** Vishal Jha"
      ],
      "metadata": {
        "id": "k08QKSWi5xQE"
      }
    }
  ]
}